{
 "cells": [
  {
   "cell_type": "code",
   "execution_count": 17,
   "metadata": {},
   "outputs": [
    {
     "data": {
      "text/html": [
       "<style>.container { width:75% !important; }</style>"
      ],
      "text/plain": [
       "<IPython.core.display.HTML object>"
      ]
     },
     "metadata": {},
     "output_type": "display_data"
    }
   ],
   "source": [
    "from IPython.core.display import display, HTML\n",
    "display(HTML(\"<style>.container { width:75% !important; }</style>\"))"
   ]
  },
  {
   "cell_type": "code",
   "execution_count": 1,
   "metadata": {
    "ExecuteTime": {
     "end_time": "2020-12-22T17:59:34.815276Z",
     "start_time": "2020-12-22T17:59:34.813177Z"
    }
   },
   "outputs": [
    {
     "name": "stdout",
     "output_type": "stream",
     "text": [
      "/home/tutorial-predict-device-change\n"
     ]
    }
   ],
   "source": [
    "# Set repository root as a Workding Directory \n",
    "\n",
    "# For virtual environment: uncomment the lines below\n",
    "# %cd ..\n",
    "# %env PYTHONPATH=.\n",
    "\n",
    "# For Docker\n",
    "%cd /home/tutorial-predict-device-change"
   ]
  },
  {
   "cell_type": "code",
   "execution_count": 2,
   "metadata": {
    "ExecuteTime": {
     "end_time": "2020-12-22T17:59:35.765340Z",
     "start_time": "2020-12-22T17:59:35.373359Z"
    }
   },
   "outputs": [],
   "source": [
    "import pandas as pd"
   ]
  },
  {
   "cell_type": "markdown",
   "metadata": {},
   "source": [
    "# Config"
   ]
  },
  {
   "cell_type": "code",
   "execution_count": null,
   "metadata": {},
   "outputs": [],
   "source": []
  },
  {
   "cell_type": "code",
   "execution_count": 7,
   "metadata": {
    "ExecuteTime": {
     "end_time": "2020-12-22T17:59:35.851656Z",
     "start_time": "2020-12-22T17:59:35.847943Z"
    },
    "scrolled": true
   },
   "outputs": [
    {
     "name": "stdout",
     "output_type": "stream",
     "text": [
      "Base:\n",
      "  random_state: 42\n",
      "  log_level: DEBUG\n",
      "\n",
      "\n",
      "Data:\n",
      "  user_features_raw: ./data/raw/user_features.feather # train_x\n",
      "  target_raw: ./data/raw/target.feather # train_y\n",
      "  scoring_user_features_raw: ./data/raw/scoring_user_features.feather # test_x\n",
      "  scoring_target_raw: ./data/raw/scoring_target.feather # control for test_y\n",
      "\n",
      "\n",
      "Features:\n",
      "  features_path: ./data/processed/features.feather # train_x\n",
      "  scoring_features_path: ./data/processed/scoring_features.feather # test_x\n",
      "  predicted_target_path: ./data/processed/predicted_target.feather # prediction for test_y\n",
      "\n",
      "\n",
      "Train:\n",
      "  top_K_coef: 0.05\n",
      "  model_path: ./models/model.joblib\n",
      "  train_metrics: ./reports/train_metrics.json\n",
      "  model_params:\n",
      "    iterations: 10\n",
      "    thread_count: 50\n",
      "    has_time: True\n",
      "    allow_writing_files: False\n",
      "    cat_features:\n",
      "      - feature_17\n",
      "      - feature_21\n",
      "      - feature_11\n",
      "      - feature_11\n",
      "      - feature_16\n",
      "      - feature_22\n"
     ]
    }
   ],
   "source": [
    "CONFIG = './src/config.yaml'\n",
    "\n",
    "with open(CONFIG) as conf_file:\n",
    "    print(conf_file.read())"
   ]
  },
  {
   "cell_type": "markdown",
   "metadata": {},
   "source": [
    "# Initialize DVC project"
   ]
  },
  {
   "cell_type": "code",
   "execution_count": null,
   "metadata": {},
   "outputs": [],
   "source": []
  },
  {
   "cell_type": "code",
   "execution_count": 10,
   "metadata": {
    "ExecuteTime": {
     "end_time": "2020-12-08T11:36:08.406427Z",
     "start_time": "2020-12-08T11:36:06.090372Z"
    },
    "scrolled": true
   },
   "outputs": [
    {
     "name": "stderr",
     "output_type": "stream",
     "text": [
      "ERROR: failed to initiate DVC - '.dvc' exists. Use `-f` to force.\n"
     ]
    },
    {
     "ename": "CalledProcessError",
     "evalue": "Command 'b'\\n# \\xd0\\x95\\xd1\\x81\\xd0\\xbb\\xd0\\xb8 DVC \\xd1\\x80\\xd0\\xb5\\xd0\\xbf\\xd0\\xbe\\xd0\\xb7\\xd0\\xb8\\xd1\\x82\\xd0\\xbe\\xd1\\x80\\xd0\\xb8\\xd0\\xb9 \\xd1\\x83\\xd0\\xb6\\xd0\\xb5 \\xd0\\xb8\\xd0\\xbd\\xd0\\xb8\\xd1\\x86\\xd0\\xb8\\xd0\\xb0\\xd0\\xbb\\xd0\\xb8\\xd0\\xb7\\xd0\\xb8\\xd1\\x80\\xd0\\xbe\\xd0\\xb2\\xd0\\xb0\\xd0\\xbd, \\xd0\\xb1\\xd1\\x83\\xd0\\xb4\\xd0\\xb5\\xd1\\x82 \\xd1\\x81\\xd0\\xbe\\xd0\\xbe\\xd0\\xb1\\xd1\\x89\\xd0\\xb5\\xd0\\xbd\\xd0\\xb8\\xd0\\xb5 \\xd0\\xbe\\xd0\\xb1 \\xd0\\xbe\\xd1\\x88\\xd0\\xb8\\xd0\\xb1\\xd0\\xba\\xd0\\xb5 \\n\\ndvc init\\n'' returned non-zero exit status 1.",
     "output_type": "error",
     "traceback": [
      "\u001b[0;31m---------------------------------------------------------------------------\u001b[0m",
      "\u001b[0;31mCalledProcessError\u001b[0m                        Traceback (most recent call last)",
      "\u001b[0;32m<ipython-input-10-09a8416c914f>\u001b[0m in \u001b[0;36m<module>\u001b[0;34m\u001b[0m\n\u001b[0;32m----> 1\u001b[0;31m \u001b[0mget_ipython\u001b[0m\u001b[0;34m(\u001b[0m\u001b[0;34m)\u001b[0m\u001b[0;34m.\u001b[0m\u001b[0mrun_cell_magic\u001b[0m\u001b[0;34m(\u001b[0m\u001b[0;34m'bash'\u001b[0m\u001b[0;34m,\u001b[0m \u001b[0;34m''\u001b[0m\u001b[0;34m,\u001b[0m \u001b[0;34m'\\n# Если DVC репозиторий уже инициализирован, будет сообщение об ошибке \\n\\ndvc init\\n'\u001b[0m\u001b[0;34m)\u001b[0m\u001b[0;34m\u001b[0m\u001b[0;34m\u001b[0m\u001b[0m\n\u001b[0m",
      "\u001b[0;32m/usr/local/lib/python3.8/site-packages/IPython/core/interactiveshell.py\u001b[0m in \u001b[0;36mrun_cell_magic\u001b[0;34m(self, magic_name, line, cell)\u001b[0m\n\u001b[1;32m   2369\u001b[0m             \u001b[0;32mwith\u001b[0m \u001b[0mself\u001b[0m\u001b[0;34m.\u001b[0m\u001b[0mbuiltin_trap\u001b[0m\u001b[0;34m:\u001b[0m\u001b[0;34m\u001b[0m\u001b[0;34m\u001b[0m\u001b[0m\n\u001b[1;32m   2370\u001b[0m                 \u001b[0margs\u001b[0m \u001b[0;34m=\u001b[0m \u001b[0;34m(\u001b[0m\u001b[0mmagic_arg_s\u001b[0m\u001b[0;34m,\u001b[0m \u001b[0mcell\u001b[0m\u001b[0;34m)\u001b[0m\u001b[0;34m\u001b[0m\u001b[0;34m\u001b[0m\u001b[0m\n\u001b[0;32m-> 2371\u001b[0;31m                 \u001b[0mresult\u001b[0m \u001b[0;34m=\u001b[0m \u001b[0mfn\u001b[0m\u001b[0;34m(\u001b[0m\u001b[0;34m*\u001b[0m\u001b[0margs\u001b[0m\u001b[0;34m,\u001b[0m \u001b[0;34m**\u001b[0m\u001b[0mkwargs\u001b[0m\u001b[0;34m)\u001b[0m\u001b[0;34m\u001b[0m\u001b[0;34m\u001b[0m\u001b[0m\n\u001b[0m\u001b[1;32m   2372\u001b[0m             \u001b[0;32mreturn\u001b[0m \u001b[0mresult\u001b[0m\u001b[0;34m\u001b[0m\u001b[0;34m\u001b[0m\u001b[0m\n\u001b[1;32m   2373\u001b[0m \u001b[0;34m\u001b[0m\u001b[0m\n",
      "\u001b[0;32m/usr/local/lib/python3.8/site-packages/IPython/core/magics/script.py\u001b[0m in \u001b[0;36mnamed_script_magic\u001b[0;34m(line, cell)\u001b[0m\n\u001b[1;32m    140\u001b[0m             \u001b[0;32melse\u001b[0m\u001b[0;34m:\u001b[0m\u001b[0;34m\u001b[0m\u001b[0;34m\u001b[0m\u001b[0m\n\u001b[1;32m    141\u001b[0m                 \u001b[0mline\u001b[0m \u001b[0;34m=\u001b[0m \u001b[0mscript\u001b[0m\u001b[0;34m\u001b[0m\u001b[0;34m\u001b[0m\u001b[0m\n\u001b[0;32m--> 142\u001b[0;31m             \u001b[0;32mreturn\u001b[0m \u001b[0mself\u001b[0m\u001b[0;34m.\u001b[0m\u001b[0mshebang\u001b[0m\u001b[0;34m(\u001b[0m\u001b[0mline\u001b[0m\u001b[0;34m,\u001b[0m \u001b[0mcell\u001b[0m\u001b[0;34m)\u001b[0m\u001b[0;34m\u001b[0m\u001b[0;34m\u001b[0m\u001b[0m\n\u001b[0m\u001b[1;32m    143\u001b[0m \u001b[0;34m\u001b[0m\u001b[0m\n\u001b[1;32m    144\u001b[0m         \u001b[0;31m# write a basic docstring:\u001b[0m\u001b[0;34m\u001b[0m\u001b[0;34m\u001b[0m\u001b[0;34m\u001b[0m\u001b[0m\n",
      "\u001b[0;32m<decorator-gen-110>\u001b[0m in \u001b[0;36mshebang\u001b[0;34m(self, line, cell)\u001b[0m\n",
      "\u001b[0;32m/usr/local/lib/python3.8/site-packages/IPython/core/magic.py\u001b[0m in \u001b[0;36m<lambda>\u001b[0;34m(f, *a, **k)\u001b[0m\n\u001b[1;32m    185\u001b[0m     \u001b[0;31m# but it's overkill for just that one bit of state.\u001b[0m\u001b[0;34m\u001b[0m\u001b[0;34m\u001b[0m\u001b[0;34m\u001b[0m\u001b[0m\n\u001b[1;32m    186\u001b[0m     \u001b[0;32mdef\u001b[0m \u001b[0mmagic_deco\u001b[0m\u001b[0;34m(\u001b[0m\u001b[0marg\u001b[0m\u001b[0;34m)\u001b[0m\u001b[0;34m:\u001b[0m\u001b[0;34m\u001b[0m\u001b[0;34m\u001b[0m\u001b[0m\n\u001b[0;32m--> 187\u001b[0;31m         \u001b[0mcall\u001b[0m \u001b[0;34m=\u001b[0m \u001b[0;32mlambda\u001b[0m \u001b[0mf\u001b[0m\u001b[0;34m,\u001b[0m \u001b[0;34m*\u001b[0m\u001b[0ma\u001b[0m\u001b[0;34m,\u001b[0m \u001b[0;34m**\u001b[0m\u001b[0mk\u001b[0m\u001b[0;34m:\u001b[0m \u001b[0mf\u001b[0m\u001b[0;34m(\u001b[0m\u001b[0;34m*\u001b[0m\u001b[0ma\u001b[0m\u001b[0;34m,\u001b[0m \u001b[0;34m**\u001b[0m\u001b[0mk\u001b[0m\u001b[0;34m)\u001b[0m\u001b[0;34m\u001b[0m\u001b[0;34m\u001b[0m\u001b[0m\n\u001b[0m\u001b[1;32m    188\u001b[0m \u001b[0;34m\u001b[0m\u001b[0m\n\u001b[1;32m    189\u001b[0m         \u001b[0;32mif\u001b[0m \u001b[0mcallable\u001b[0m\u001b[0;34m(\u001b[0m\u001b[0marg\u001b[0m\u001b[0;34m)\u001b[0m\u001b[0;34m:\u001b[0m\u001b[0;34m\u001b[0m\u001b[0;34m\u001b[0m\u001b[0m\n",
      "\u001b[0;32m/usr/local/lib/python3.8/site-packages/IPython/core/magics/script.py\u001b[0m in \u001b[0;36mshebang\u001b[0;34m(self, line, cell)\u001b[0m\n\u001b[1;32m    243\u001b[0m             \u001b[0msys\u001b[0m\u001b[0;34m.\u001b[0m\u001b[0mstderr\u001b[0m\u001b[0;34m.\u001b[0m\u001b[0mflush\u001b[0m\u001b[0;34m(\u001b[0m\u001b[0;34m)\u001b[0m\u001b[0;34m\u001b[0m\u001b[0;34m\u001b[0m\u001b[0m\n\u001b[1;32m    244\u001b[0m         \u001b[0;32mif\u001b[0m \u001b[0margs\u001b[0m\u001b[0;34m.\u001b[0m\u001b[0mraise_error\u001b[0m \u001b[0;32mand\u001b[0m \u001b[0mp\u001b[0m\u001b[0;34m.\u001b[0m\u001b[0mreturncode\u001b[0m\u001b[0;34m!=\u001b[0m\u001b[0;36m0\u001b[0m\u001b[0;34m:\u001b[0m\u001b[0;34m\u001b[0m\u001b[0;34m\u001b[0m\u001b[0m\n\u001b[0;32m--> 245\u001b[0;31m             \u001b[0;32mraise\u001b[0m \u001b[0mCalledProcessError\u001b[0m\u001b[0;34m(\u001b[0m\u001b[0mp\u001b[0m\u001b[0;34m.\u001b[0m\u001b[0mreturncode\u001b[0m\u001b[0;34m,\u001b[0m \u001b[0mcell\u001b[0m\u001b[0;34m,\u001b[0m \u001b[0moutput\u001b[0m\u001b[0;34m=\u001b[0m\u001b[0mout\u001b[0m\u001b[0;34m,\u001b[0m \u001b[0mstderr\u001b[0m\u001b[0;34m=\u001b[0m\u001b[0merr\u001b[0m\u001b[0;34m)\u001b[0m\u001b[0;34m\u001b[0m\u001b[0;34m\u001b[0m\u001b[0m\n\u001b[0m\u001b[1;32m    246\u001b[0m \u001b[0;34m\u001b[0m\u001b[0m\n\u001b[1;32m    247\u001b[0m     \u001b[0;32mdef\u001b[0m \u001b[0m_run_script\u001b[0m\u001b[0;34m(\u001b[0m\u001b[0mself\u001b[0m\u001b[0;34m,\u001b[0m \u001b[0mp\u001b[0m\u001b[0;34m,\u001b[0m \u001b[0mcell\u001b[0m\u001b[0;34m,\u001b[0m \u001b[0mto_close\u001b[0m\u001b[0;34m)\u001b[0m\u001b[0;34m:\u001b[0m\u001b[0;34m\u001b[0m\u001b[0;34m\u001b[0m\u001b[0m\n",
      "\u001b[0;31mCalledProcessError\u001b[0m: Command 'b'\\n# \\xd0\\x95\\xd1\\x81\\xd0\\xbb\\xd0\\xb8 DVC \\xd1\\x80\\xd0\\xb5\\xd0\\xbf\\xd0\\xbe\\xd0\\xb7\\xd0\\xb8\\xd1\\x82\\xd0\\xbe\\xd1\\x80\\xd0\\xb8\\xd0\\xb9 \\xd1\\x83\\xd0\\xb6\\xd0\\xb5 \\xd0\\xb8\\xd0\\xbd\\xd0\\xb8\\xd1\\x86\\xd0\\xb8\\xd0\\xb0\\xd0\\xbb\\xd0\\xb8\\xd0\\xb7\\xd0\\xb8\\xd1\\x80\\xd0\\xbe\\xd0\\xb2\\xd0\\xb0\\xd0\\xbd, \\xd0\\xb1\\xd1\\x83\\xd0\\xb4\\xd0\\xb5\\xd1\\x82 \\xd1\\x81\\xd0\\xbe\\xd0\\xbe\\xd0\\xb1\\xd1\\x89\\xd0\\xb5\\xd0\\xbd\\xd0\\xb8\\xd0\\xb5 \\xd0\\xbe\\xd0\\xb1 \\xd0\\xbe\\xd1\\x88\\xd0\\xb8\\xd0\\xb1\\xd0\\xba\\xd0\\xb5 \\n\\ndvc init\\n'' returned non-zero exit status 1."
     ]
    }
   ],
   "source": [
    "%%bash\n",
    "\n",
    "# Если DVC репозиторий уже инициализирован, будет сообщение об ошибке \n",
    "\n",
    "dvc init"
   ]
  },
  {
   "cell_type": "code",
   "execution_count": 6,
   "metadata": {
    "scrolled": true
   },
   "outputs": [
    {
     "name": "stdout",
     "output_type": "stream",
     "text": [
      "[step-3-dvc 430cf2d] Init DVC REPO\n",
      " 2 files changed, 1 insertion(+), 5 deletions(-)\n"
     ]
    }
   ],
   "source": [
    "%%bash\n",
    "\n",
    "git add .git && git commit -a -m \"Init DVC REPO\""
   ]
  },
  {
   "cell_type": "markdown",
   "metadata": {},
   "source": [
    "# Configure DVC project"
   ]
  },
  {
   "cell_type": "code",
   "execution_count": 11,
   "metadata": {
    "ExecuteTime": {
     "end_time": "2020-12-08T11:39:42.800491Z",
     "start_time": "2020-12-08T11:39:42.798130Z"
    }
   },
   "outputs": [
    {
     "name": "stdout",
     "output_type": "stream",
     "text": [
      "Setting 'myremote' as a default remote.\n"
     ]
    }
   ],
   "source": [
    "%%bash\n",
    "\n",
    "dvc remote add -f -d myremote /tmp/dvc/tutorial-predict-device-change"
   ]
  },
  {
   "cell_type": "code",
   "execution_count": 13,
   "metadata": {
    "ExecuteTime": {
     "end_time": "2020-12-08T11:39:42.800491Z",
     "start_time": "2020-12-08T11:39:42.798130Z"
    },
    "scrolled": true
   },
   "outputs": [
    {
     "name": "stdout",
     "output_type": "stream",
     "text": [
      "[automate-pipelines 6d67094] Add dvc remote storage\n",
      " 1 file changed, 4 insertions(+)\n"
     ]
    }
   ],
   "source": [
    "%%bash\n",
    "git add .\n",
    "git commit -m \"Add dvc remote storage\""
   ]
  },
  {
   "cell_type": "markdown",
   "metadata": {},
   "source": [
    "# Create DVC pipeline"
   ]
  },
  {
   "cell_type": "markdown",
   "metadata": {},
   "source": [
    "## Load & process data, Create features"
   ]
  },
  {
   "cell_type": "code",
   "execution_count": 41,
   "metadata": {
    "ExecuteTime": {
     "end_time": "2020-12-08T11:40:21.496703Z",
     "start_time": "2020-12-08T11:40:13.877353Z"
    },
    "scrolled": true
   },
   "outputs": [],
   "source": [
    "# !dvc run \\\n",
    "#     -n data_load \\\n",
    "#     -d src/pipelines/data_load.py \\\n",
    "#     -d data/raw/target.feather \\\n",
    "#     -d data/raw/user_features.feather \\\n",
    "#     -o data/processed/target.feather \\\n",
    "#     -o data/processed/user_features.feather \\\n",
    "#     -p data_load \\\n",
    "#     python src/pipelines/data_load.py --config=params.yaml"
   ]
  },
  {
   "cell_type": "code",
   "execution_count": 58,
   "metadata": {
    "scrolled": true
   },
   "outputs": [
    {
     "name": "stdout",
     "output_type": "stream",
     "text": [
      "Data and pipelines are up to date.                                    core\u001b[39m>\n",
      "\u001b[0m"
     ]
    }
   ],
   "source": [
    "! dvc status"
   ]
  },
  {
   "cell_type": "code",
   "execution_count": null,
   "metadata": {},
   "outputs": [],
   "source": []
  },
  {
   "cell_type": "code",
   "execution_count": 39,
   "metadata": {},
   "outputs": [
    {
     "name": "stdout",
     "output_type": "stream",
     "text": [
      "Running stage 'Features':                                             core\u001b[39m>\n",
      "> python src/featurize.py --config=params.yaml\n",
      "2021-05-25 10:07:17,011 — DATA_LOAD — INFO — Load raw target for train..\n",
      "2021-05-25 10:07:17,083 — DATA_LOAD — INFO — Load raw data for train..\n",
      "2021-05-25 10:07:17,580 — DATA_LOAD — INFO — Train_XY loaded\n",
      "2021-05-25 10:07:17,585 — FEATURES — INFO — Create train features...\n",
      "2021-05-25 10:07:17,848 — FEATURES — INFO — Done\n",
      "Creating 'dvc.yaml'                                                             \n",
      "Adding stage 'Features' in 'dvc.yaml'\n",
      "Generating lock file 'dvc.lock'\n",
      "Updating lock file 'dvc.lock'\n",
      "\n",
      "To track the changes with git, run:\n",
      "\n",
      "\tgit add dvc.yaml dvc.lock\n",
      "\u001b[0m"
     ]
    }
   ],
   "source": [
    "!dvc run \\\n",
    "    -n Features \\\n",
    "    -d src/featurize.py \\\n",
    "    -d data/raw/target.feather \\\n",
    "    -d data/raw/user_features.feather \\\n",
    "    -o data/processed/features.feather \\\n",
    "    -p Features \\\n",
    "    python src/featurize.py --config=params.yaml"
   ]
  },
  {
   "cell_type": "code",
   "execution_count": null,
   "metadata": {},
   "outputs": [],
   "source": []
  },
  {
   "cell_type": "code",
   "execution_count": 40,
   "metadata": {
    "scrolled": true
   },
   "outputs": [],
   "source": [
    "# ! dvc repro"
   ]
  },
  {
   "cell_type": "code",
   "execution_count": 44,
   "metadata": {
    "ExecuteTime": {
     "end_time": "2020-12-08T11:41:26.213240Z",
     "start_time": "2020-12-08T11:41:26.079744Z"
    }
   },
   "outputs": [
    {
     "name": "stdout",
     "output_type": "stream",
     "text": [
      "features.feather  predicted_target.feather  scoring_features.feather\r\n"
     ]
    }
   ],
   "source": [
    "!ls data/processed/"
   ]
  },
  {
   "cell_type": "code",
   "execution_count": 46,
   "metadata": {
    "ExecuteTime": {
     "end_time": "2020-12-08T11:41:26.606635Z",
     "start_time": "2020-12-08T11:41:26.268836Z"
    }
   },
   "outputs": [
    {
     "data": {
      "text/html": [
       "<div>\n",
       "<style scoped>\n",
       "    .dataframe tbody tr th:only-of-type {\n",
       "        vertical-align: middle;\n",
       "    }\n",
       "\n",
       "    .dataframe tbody tr th {\n",
       "        vertical-align: top;\n",
       "    }\n",
       "\n",
       "    .dataframe thead th {\n",
       "        text-align: right;\n",
       "    }\n",
       "</style>\n",
       "<table border=\"1\" class=\"dataframe\">\n",
       "  <thead>\n",
       "    <tr style=\"text-align: right;\">\n",
       "      <th></th>\n",
       "      <th>user_id</th>\n",
       "      <th>month</th>\n",
       "      <th>feature_1</th>\n",
       "      <th>feature_2</th>\n",
       "      <th>feature_3</th>\n",
       "      <th>feature_4</th>\n",
       "      <th>feature_5</th>\n",
       "      <th>feature_6</th>\n",
       "      <th>feature_7</th>\n",
       "      <th>feature_8</th>\n",
       "      <th>...</th>\n",
       "      <th>feature_22</th>\n",
       "      <th>feature_23</th>\n",
       "      <th>feature_24</th>\n",
       "      <th>feature_25</th>\n",
       "      <th>feature_26</th>\n",
       "      <th>feature_27</th>\n",
       "      <th>feature_28</th>\n",
       "      <th>feature_29</th>\n",
       "      <th>feature_30</th>\n",
       "      <th>target</th>\n",
       "    </tr>\n",
       "  </thead>\n",
       "  <tbody>\n",
       "    <tr>\n",
       "      <th>0</th>\n",
       "      <td>0</td>\n",
       "      <td>2020-04-30</td>\n",
       "      <td>0.993121</td>\n",
       "      <td>-15</td>\n",
       "      <td>2.274309</td>\n",
       "      <td>18</td>\n",
       "      <td>2868</td>\n",
       "      <td>-1.305588</td>\n",
       "      <td>-0.097643</td>\n",
       "      <td>0.617778</td>\n",
       "      <td>...</td>\n",
       "      <td>AOKOISPPQLWGKK</td>\n",
       "      <td>-3.146305</td>\n",
       "      <td>-1.655508</td>\n",
       "      <td>25</td>\n",
       "      <td>3.032537</td>\n",
       "      <td>-29960</td>\n",
       "      <td>-1.864660</td>\n",
       "      <td>-0.212668</td>\n",
       "      <td>-3.245333</td>\n",
       "      <td>1.0</td>\n",
       "    </tr>\n",
       "    <tr>\n",
       "      <th>1</th>\n",
       "      <td>0</td>\n",
       "      <td>2020-05-31</td>\n",
       "      <td>-1.416912</td>\n",
       "      <td>-145</td>\n",
       "      <td>-1.087891</td>\n",
       "      <td>-8</td>\n",
       "      <td>-1763</td>\n",
       "      <td>-1.322007</td>\n",
       "      <td>3.143865</td>\n",
       "      <td>-0.272231</td>\n",
       "      <td>...</td>\n",
       "      <td>OORLO7PMHCZFEMSR</td>\n",
       "      <td>2.365636</td>\n",
       "      <td>-2.632201</td>\n",
       "      <td>-11</td>\n",
       "      <td>-2.373654</td>\n",
       "      <td>-173398</td>\n",
       "      <td>0.458990</td>\n",
       "      <td>1.376687</td>\n",
       "      <td>-0.460150</td>\n",
       "      <td>0.0</td>\n",
       "    </tr>\n",
       "    <tr>\n",
       "      <th>2</th>\n",
       "      <td>0</td>\n",
       "      <td>2020-06-30</td>\n",
       "      <td>0.673564</td>\n",
       "      <td>23</td>\n",
       "      <td>0.016666</td>\n",
       "      <td>-7</td>\n",
       "      <td>-4092</td>\n",
       "      <td>-0.936663</td>\n",
       "      <td>-1.909813</td>\n",
       "      <td>0.715618</td>\n",
       "      <td>...</td>\n",
       "      <td>NZFU27MWLPZRTX4G5D</td>\n",
       "      <td>-2.220931</td>\n",
       "      <td>1.930994</td>\n",
       "      <td>-10</td>\n",
       "      <td>3.301401</td>\n",
       "      <td>-46619</td>\n",
       "      <td>0.269820</td>\n",
       "      <td>0.900846</td>\n",
       "      <td>0.315063</td>\n",
       "      <td>1.0</td>\n",
       "    </tr>\n",
       "    <tr>\n",
       "      <th>3</th>\n",
       "      <td>0</td>\n",
       "      <td>2020-07-31</td>\n",
       "      <td>-2.124908</td>\n",
       "      <td>-15</td>\n",
       "      <td>1.234815</td>\n",
       "      <td>18</td>\n",
       "      <td>9348</td>\n",
       "      <td>0.233297</td>\n",
       "      <td>-0.108647</td>\n",
       "      <td>-1.831460</td>\n",
       "      <td>...</td>\n",
       "      <td>KQBIGTVRDJZJLQRRPPY</td>\n",
       "      <td>1.641780</td>\n",
       "      <td>-5.166544</td>\n",
       "      <td>-23</td>\n",
       "      <td>0.531913</td>\n",
       "      <td>-131224</td>\n",
       "      <td>-0.341103</td>\n",
       "      <td>0.208832</td>\n",
       "      <td>1.869453</td>\n",
       "      <td>0.0</td>\n",
       "    </tr>\n",
       "    <tr>\n",
       "      <th>4</th>\n",
       "      <td>0</td>\n",
       "      <td>2020-08-31</td>\n",
       "      <td>-2.122264</td>\n",
       "      <td>-50</td>\n",
       "      <td>-0.584464</td>\n",
       "      <td>-8</td>\n",
       "      <td>1894</td>\n",
       "      <td>-0.092315</td>\n",
       "      <td>-0.547480</td>\n",
       "      <td>-0.065323</td>\n",
       "      <td>...</td>\n",
       "      <td>KQBIGTVRDJZJLQRRPPY</td>\n",
       "      <td>1.852084</td>\n",
       "      <td>-0.761511</td>\n",
       "      <td>-24</td>\n",
       "      <td>-1.080867</td>\n",
       "      <td>68577</td>\n",
       "      <td>-1.328331</td>\n",
       "      <td>-0.681723</td>\n",
       "      <td>0.431699</td>\n",
       "      <td>1.0</td>\n",
       "    </tr>\n",
       "  </tbody>\n",
       "</table>\n",
       "<p>5 rows × 33 columns</p>\n",
       "</div>"
      ],
      "text/plain": [
       "   user_id      month  feature_1  feature_2  feature_3  feature_4  feature_5  \\\n",
       "0        0 2020-04-30   0.993121        -15   2.274309         18       2868   \n",
       "1        0 2020-05-31  -1.416912       -145  -1.087891         -8      -1763   \n",
       "2        0 2020-06-30   0.673564         23   0.016666         -7      -4092   \n",
       "3        0 2020-07-31  -2.124908        -15   1.234815         18       9348   \n",
       "4        0 2020-08-31  -2.122264        -50  -0.584464         -8       1894   \n",
       "\n",
       "   feature_6  feature_7  feature_8  ...           feature_22  feature_23  \\\n",
       "0  -1.305588  -0.097643   0.617778  ...       AOKOISPPQLWGKK   -3.146305   \n",
       "1  -1.322007   3.143865  -0.272231  ...     OORLO7PMHCZFEMSR    2.365636   \n",
       "2  -0.936663  -1.909813   0.715618  ...   NZFU27MWLPZRTX4G5D   -2.220931   \n",
       "3   0.233297  -0.108647  -1.831460  ...  KQBIGTVRDJZJLQRRPPY    1.641780   \n",
       "4  -0.092315  -0.547480  -0.065323  ...  KQBIGTVRDJZJLQRRPPY    1.852084   \n",
       "\n",
       "  feature_24  feature_25  feature_26  feature_27  feature_28 feature_29  \\\n",
       "0  -1.655508          25    3.032537      -29960   -1.864660  -0.212668   \n",
       "1  -2.632201         -11   -2.373654     -173398    0.458990   1.376687   \n",
       "2   1.930994         -10    3.301401      -46619    0.269820   0.900846   \n",
       "3  -5.166544         -23    0.531913     -131224   -0.341103   0.208832   \n",
       "4  -0.761511         -24   -1.080867       68577   -1.328331  -0.681723   \n",
       "\n",
       "  feature_30  target  \n",
       "0  -3.245333     1.0  \n",
       "1  -0.460150     0.0  \n",
       "2   0.315063     1.0  \n",
       "3   1.869453     0.0  \n",
       "4   0.431699     1.0  \n",
       "\n",
       "[5 rows x 33 columns]"
      ]
     },
     "execution_count": 46,
     "metadata": {},
     "output_type": "execute_result"
    }
   ],
   "source": [
    "features = pd.read_feather('data/processed/features.feather')\n",
    "features.head()"
   ]
  },
  {
   "cell_type": "markdown",
   "metadata": {},
   "source": [
    "## Train"
   ]
  },
  {
   "cell_type": "code",
   "execution_count": 47,
   "metadata": {
    "ExecuteTime": {
     "end_time": "2020-12-08T11:42:04.081225Z",
     "start_time": "2020-12-08T11:41:49.464471Z"
    },
    "scrolled": true
   },
   "outputs": [
    {
     "name": "stdout",
     "output_type": "stream",
     "text": [
      "Running stage 'Train':                                                core\u001b[39m>\n",
      "> python src/train.py --config=params.yaml\n",
      "2021-05-25 10:13:30,943 — MODEL_TRAIN — INFO — Start training model..\n",
      "2021-05-25 10:13:31,089 — MODEL_TRAIN — INFO — Fold 1:\n",
      "2021-05-25 10:13:31,089 — MODEL_TRAIN — INFO — Train: 2020-04-30 00:00:00 - 2020-04-30 00:00:00\n",
      "2021-05-25 10:13:31,089 — MODEL_TRAIN — INFO — Test: 2020-05-31 00:00:00 \n",
      "\n",
      "2021-05-25 10:13:31,170 — MODEL_TRAIN — INFO — Train shapes: X - (150484, 30), y - (150484,)\n",
      "2021-05-25 10:13:31,170 — MODEL_TRAIN — INFO — Test shapes: X - (150411, 30), y - (150411,)\n",
      "Learning rate set to 0.5\n",
      "0:\tlearn: 0.6136792\ttotal: 132ms\tremaining: 1.19s\n",
      "1:\tlearn: 0.5580362\ttotal: 207ms\tremaining: 829ms\n",
      "2:\tlearn: 0.5270051\ttotal: 280ms\tremaining: 654ms\n",
      "3:\tlearn: 0.5080045\ttotal: 373ms\tremaining: 560ms\n",
      "4:\tlearn: 0.4978499\ttotal: 448ms\tremaining: 448ms\n",
      "5:\tlearn: 0.4870497\ttotal: 517ms\tremaining: 345ms\n",
      "6:\tlearn: 0.4816503\ttotal: 608ms\tremaining: 261ms\n",
      "7:\tlearn: 0.4764344\ttotal: 684ms\tremaining: 171ms\n",
      "8:\tlearn: 0.4704595\ttotal: 763ms\tremaining: 84.8ms\n",
      "9:\tlearn: 0.4606868\ttotal: 838ms\tremaining: 0us\n",
      "2021-05-25 10:13:32,547 — MODEL_TRAIN — INFO — Max probas: 0.9724542746596695\n",
      "(150411,) (150411,) (150411,)\n",
      "Lift: 0.824549274052013 / 0.39038368204453133 = 2.112150973456816\n",
      "2021-05-25 10:13:32,663 — MODEL_TRAIN — INFO — Precision at 37606: 0.824549274052013\n",
      "2021-05-25 10:13:32,663 — MODEL_TRAIN — INFO — Recall at 37606: 1.0\n",
      "2021-05-25 10:13:32,663 — MODEL_TRAIN — INFO — \n",
      "\n",
      "2021-05-25 10:13:32,663 — MODEL_TRAIN — INFO — Fold 2:\n",
      "2021-05-25 10:13:32,663 — MODEL_TRAIN — INFO — Train: 2020-04-30 00:00:00 - 2020-05-31 00:00:00\n",
      "2021-05-25 10:13:32,663 — MODEL_TRAIN — INFO — Test: 2020-06-30 00:00:00 \n",
      "\n",
      "2021-05-25 10:13:32,755 — MODEL_TRAIN — INFO — Train shapes: X - (300895, 30), y - (300895,)\n",
      "2021-05-25 10:13:32,755 — MODEL_TRAIN — INFO — Test shapes: X - (150187, 30), y - (150187,)\n",
      "Learning rate set to 0.5\n",
      "0:\tlearn: 0.6104631\ttotal: 121ms\tremaining: 1.09s\n",
      "1:\tlearn: 0.5544948\ttotal: 244ms\tremaining: 975ms\n",
      "2:\tlearn: 0.5293535\ttotal: 365ms\tremaining: 851ms\n",
      "3:\tlearn: 0.5145389\ttotal: 489ms\tremaining: 733ms\n",
      "4:\tlearn: 0.5055719\ttotal: 600ms\tremaining: 600ms\n",
      "5:\tlearn: 0.4913452\ttotal: 708ms\tremaining: 472ms\n",
      "6:\tlearn: 0.4865615\ttotal: 826ms\tremaining: 354ms\n",
      "7:\tlearn: 0.4749662\ttotal: 952ms\tremaining: 238ms\n",
      "8:\tlearn: 0.4694501\ttotal: 1.06s\tremaining: 118ms\n",
      "9:\tlearn: 0.4647223\ttotal: 1.18s\tremaining: 0us\n",
      "2021-05-25 10:13:34,592 — MODEL_TRAIN — INFO — Max probas: 0.9787865556045341\n",
      "(150187,) (150187,) (150187,)\n",
      "Lift: 0.8220230814231771 / 0.38953438047234445 = 2.110270935331568\n",
      "2021-05-25 10:13:34,697 — MODEL_TRAIN — INFO — Precision at 37606: 0.8220230814231771\n",
      "2021-05-25 10:13:34,697 — MODEL_TRAIN — INFO — Recall at 37606: 1.0\n",
      "2021-05-25 10:13:34,697 — MODEL_TRAIN — INFO — \n",
      "\n",
      "2021-05-25 10:13:34,697 — MODEL_TRAIN — INFO — Fold 3:\n",
      "2021-05-25 10:13:34,697 — MODEL_TRAIN — INFO — Train: 2020-04-30 00:00:00 - 2020-06-30 00:00:00\n",
      "2021-05-25 10:13:34,697 — MODEL_TRAIN — INFO — Test: 2020-07-31 00:00:00 \n",
      "\n",
      "2021-05-25 10:13:34,796 — MODEL_TRAIN — INFO — Train shapes: X - (451082, 30), y - (451082,)\n",
      "2021-05-25 10:13:34,796 — MODEL_TRAIN — INFO — Test shapes: X - (150492, 30), y - (150492,)\n",
      "Learning rate set to 0.5\n",
      "0:\tlearn: 0.6136329\ttotal: 168ms\tremaining: 1.51s\n",
      "1:\tlearn: 0.5574970\ttotal: 316ms\tremaining: 1.26s\n",
      "2:\tlearn: 0.5261245\ttotal: 459ms\tremaining: 1.07s\n",
      "3:\tlearn: 0.5099224\ttotal: 605ms\tremaining: 908ms\n",
      "4:\tlearn: 0.4954246\ttotal: 753ms\tremaining: 753ms\n",
      "5:\tlearn: 0.4866363\ttotal: 914ms\tremaining: 610ms\n",
      "6:\tlearn: 0.4835735\ttotal: 1.06s\tremaining: 455ms\n",
      "7:\tlearn: 0.4769143\ttotal: 1.22s\tremaining: 305ms\n",
      "8:\tlearn: 0.4700881\ttotal: 1.38s\tremaining: 154ms\n",
      "9:\tlearn: 0.4658578\ttotal: 1.54s\tremaining: 0us\n",
      "2021-05-25 10:13:37,090 — MODEL_TRAIN — INFO — Max probas: 0.9785329925005486\n",
      "(150492,) (150492,) (150492,)\n",
      "Lift: 0.8159602191139712 / 0.38920341280599635 = 2.0964878319828544\n",
      "2021-05-25 10:13:37,196 — MODEL_TRAIN — INFO — Precision at 37606: 0.8159602191139712\n",
      "2021-05-25 10:13:37,196 — MODEL_TRAIN — INFO — Recall at 37606: 1.0\n",
      "2021-05-25 10:13:37,196 — MODEL_TRAIN — INFO — \n",
      "\n",
      "2021-05-25 10:13:37,196 — MODEL_TRAIN — INFO — Fold 4:\n",
      "2021-05-25 10:13:37,196 — MODEL_TRAIN — INFO — Train: 2020-04-30 00:00:00 - 2020-07-31 00:00:00\n",
      "2021-05-25 10:13:37,197 — MODEL_TRAIN — INFO — Test: 2020-08-31 00:00:00 \n",
      "\n",
      "2021-05-25 10:13:37,310 — MODEL_TRAIN — INFO — Train shapes: X - (601574, 30), y - (601574,)\n",
      "2021-05-25 10:13:37,310 — MODEL_TRAIN — INFO — Test shapes: X - (150554, 30), y - (150554,)\n",
      "Learning rate set to 0.5\n",
      "0:\tlearn: 0.6141153\ttotal: 233ms\tremaining: 2.1s\n",
      "1:\tlearn: 0.5583069\ttotal: 424ms\tremaining: 1.7s\n",
      "2:\tlearn: 0.5296815\ttotal: 620ms\tremaining: 1.45s\n",
      "3:\tlearn: 0.5181156\ttotal: 807ms\tremaining: 1.21s\n",
      "4:\tlearn: 0.5053960\ttotal: 1s\tremaining: 1s\n",
      "5:\tlearn: 0.4925562\ttotal: 1.19s\tremaining: 793ms\n",
      "6:\tlearn: 0.4832041\ttotal: 1.38s\tremaining: 593ms\n",
      "7:\tlearn: 0.4764305\ttotal: 1.57s\tremaining: 393ms\n",
      "8:\tlearn: 0.4685497\ttotal: 1.77s\tremaining: 197ms\n",
      "9:\tlearn: 0.4633356\ttotal: 1.95s\tremaining: 0us\n",
      "2021-05-25 10:13:40,164 — MODEL_TRAIN — INFO — Max probas: 0.9813663894018204\n",
      "(150554,) (150554,) (150554,)\n",
      "Lift: 0.8204541828431633 / 0.39068374138182976 = 2.10004690735595\n",
      "2021-05-25 10:13:40,266 — MODEL_TRAIN — INFO — Precision at 37606: 0.8204541828431633\n",
      "2021-05-25 10:13:40,266 — MODEL_TRAIN — INFO — Recall at 37606: 1.0\n",
      "2021-05-25 10:13:40,266 — MODEL_TRAIN — INFO — \n",
      "\n",
      "2020-09-30 00:00:00\n",
      "2020-08-31T00:00:00.000000000\n",
      "2021-05-25 10:13:40,268 — MODEL_TRAIN — INFO — Model trained and saved\n",
      "2021-05-25 10:13:40,273 — MODEL_TRAIN — INFO — Metrics saved\n",
      "2021-05-25 10:13:40,273 — MODEL_TRAIN — INFO —           lift  precision_at_k  recall_at_k\n",
      "max   2.112151        0.824549          1.0\n",
      "min   2.096488        0.815960          1.0\n",
      "std   0.007652        0.003609          0.0\n",
      "mean  2.104739        0.820747          1.0\n",
      "Adding stage 'Train' in 'dvc.yaml'                                              \n",
      "Updating lock file 'dvc.lock'\n",
      "\n",
      "To track the changes with git, run:\n",
      "\n",
      "\tgit add dvc.lock dvc.yaml\n",
      "\u001b[0m"
     ]
    }
   ],
   "source": [
    "!dvc run \\\n",
    "    -n Train \\\n",
    "    -d src/train.py \\\n",
    "    -d data/processed/features.feather \\\n",
    "    -o models/model.joblib \\\n",
    "    -m reports/train_metrics.json \\\n",
    "    -p Train \\\n",
    "    python src/train.py --config=params.yaml"
   ]
  },
  {
   "cell_type": "code",
   "execution_count": 52,
   "metadata": {
    "ExecuteTime": {
     "end_time": "2020-12-08T11:42:14.285849Z",
     "start_time": "2020-12-08T11:42:14.159358Z"
    }
   },
   "outputs": [
    {
     "name": "stdout",
     "output_type": "stream",
     "text": [
      "model.joblib\r\n"
     ]
    }
   ],
   "source": [
    "!ls models"
   ]
  },
  {
   "cell_type": "code",
   "execution_count": 51,
   "metadata": {
    "ExecuteTime": {
     "end_time": "2020-12-08T11:42:15.148886Z",
     "start_time": "2020-12-08T11:42:15.024790Z"
    }
   },
   "outputs": [
    {
     "name": "stdout",
     "output_type": "stream",
     "text": [
      "{\r\n",
      "    \"lift_max\": 2.112150973456816,\r\n",
      "    \"lift_min\": 2.0964878319828544,\r\n",
      "    \"lift_std\": 0.007651517626364342,\r\n",
      "    \"lift_mean\": 2.104739162031797,\r\n",
      "    \"precision_at_k_max\": 0.824549274052013,\r\n",
      "    \"precision_at_k_min\": 0.8159602191139712,\r\n",
      "    \"precision_at_k_std\": 0.003609463695961109,\r\n",
      "    \"precision_at_k_mean\": 0.8207466893580813,\r\n",
      "    \"recall_at_k_max\": 1.0,\r\n",
      "    \"recall_at_k_min\": 1.0,\r\n",
      "    \"recall_at_k_std\": 0.0,\r\n",
      "    \"recall_at_k_mean\": 1.0\r\n",
      "}"
     ]
    }
   ],
   "source": [
    "!cat reports/train_metrics.json"
   ]
  },
  {
   "cell_type": "code",
   "execution_count": 54,
   "metadata": {
    "ExecuteTime": {
     "end_time": "2020-12-08T11:42:19.819400Z",
     "start_time": "2020-12-08T11:42:19.757698Z"
    }
   },
   "outputs": [],
   "source": [
    "# %%bash\n",
    "\n",
    "# git add .\n",
    "# git commit -m \"Create dvc pipeline\""
   ]
  },
  {
   "cell_type": "markdown",
   "metadata": {},
   "source": [
    "## List stages"
   ]
  },
  {
   "cell_type": "code",
   "execution_count": 55,
   "metadata": {},
   "outputs": [
    {
     "name": "stdout",
     "output_type": "stream",
     "text": [
      "Features  Outputs data/processed/features.feather\r\n",
      "Train     Outputs models/model.joblib; Reports reports/train_metrics.json\r\n",
      "\u001b[0m"
     ]
    }
   ],
   "source": [
    "!dvc stage list"
   ]
  },
  {
   "cell_type": "code",
   "execution_count": 56,
   "metadata": {},
   "outputs": [
    {
     "name": "stdout",
     "output_type": "stream",
     "text": [
      "Stage 'Features' didn't change, skipping                              core\u001b[39m>\n",
      "Stage 'Train' didn't change, skipping\n",
      "Data and pipelines are up to date.\n",
      "\u001b[0m"
     ]
    }
   ],
   "source": [
    "!dvc repro\n"
   ]
  },
  {
   "cell_type": "markdown",
   "metadata": {},
   "source": [
    "# Push DVC cache to remote"
   ]
  },
  {
   "cell_type": "code",
   "execution_count": 57,
   "metadata": {
    "ExecuteTime": {
     "end_time": "2020-12-08T11:42:31.181057Z",
     "start_time": "2020-12-08T11:42:28.454550Z"
    }
   },
   "outputs": [
    {
     "name": "stdout",
     "output_type": "stream",
     "text": [
      "  0% Uploading|                                      |0/3 [00:00<?,     ?file/s]\n",
      "!\u001b[A\n",
      "  0%|          |models/model.joblib            0.00/22.2k [00:00<?,       ?it/s]\u001b[A\n",
      "\n",
      "  0%|          |reports/train_metrics.json          0/446 [00:00<?,       ?it/s]\u001b[A\u001b[A\n",
      "\n",
      "\n",
      "  0%|          |data/processed/features.feather 0.00/132M [00:00<?,       ?it/s]\u001b[A\u001b[A\u001b[A\n",
      "                                                                                \u001b[A\n",
      "\n",
      "                                                                                \u001b[A\u001b[A\n",
      "\n",
      "\n",
      "3 files pushed                                                                  \u001b[A\u001b[A\u001b[A\n",
      "\u001b[0m"
     ]
    }
   ],
   "source": [
    "!dvc push"
   ]
  },
  {
   "cell_type": "code",
   "execution_count": 59,
   "metadata": {},
   "outputs": [
    {
     "name": "stdout",
     "output_type": "stream",
     "text": [
      "Data and pipelines are up to date.                                    core\u001b[39m>\n",
      "\u001b[0m"
     ]
    }
   ],
   "source": [
    "! dvc status"
   ]
  },
  {
   "cell_type": "code",
   "execution_count": null,
   "metadata": {},
   "outputs": [],
   "source": []
  }
 ],
 "metadata": {
  "kernelspec": {
   "display_name": "Python 3",
   "language": "python",
   "name": "python3"
  },
  "language_info": {
   "codemirror_mode": {
    "name": "ipython",
    "version": 3
   },
   "file_extension": ".py",
   "mimetype": "text/x-python",
   "name": "python",
   "nbconvert_exporter": "python",
   "pygments_lexer": "ipython3",
   "version": "3.8.2"
  },
  "toc": {
   "base_numbering": 1,
   "nav_menu": {},
   "number_sections": true,
   "sideBar": true,
   "skip_h1_title": false,
   "title_cell": "Table of Contents",
   "title_sidebar": "Contents",
   "toc_cell": false,
   "toc_position": {
    "height": "calc(100% - 180px)",
    "left": "10px",
    "top": "150px",
    "width": "223.938px"
   },
   "toc_section_display": true,
   "toc_window_display": true
  },
  "varInspector": {
   "cols": {
    "lenName": 16,
    "lenType": 16,
    "lenVar": 40
   },
   "kernels_config": {
    "python": {
     "delete_cmd_postfix": "",
     "delete_cmd_prefix": "del ",
     "library": "var_list.py",
     "varRefreshCmd": "print(var_dic_list())"
    },
    "r": {
     "delete_cmd_postfix": ") ",
     "delete_cmd_prefix": "rm(",
     "library": "var_list.r",
     "varRefreshCmd": "cat(var_dic_list()) "
    }
   },
   "types_to_exclude": [
    "module",
    "function",
    "builtin_function_or_method",
    "instance",
    "_Feature"
   ],
   "window_display": false
  }
 },
 "nbformat": 4,
 "nbformat_minor": 4
}
